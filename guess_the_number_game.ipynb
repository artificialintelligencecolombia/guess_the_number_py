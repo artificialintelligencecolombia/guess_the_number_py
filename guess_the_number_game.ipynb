{
 "cells": [
  {
   "cell_type": "markdown",
   "metadata": {},
   "source": [
    "# Guess the Number"
   ]
  },
  {
   "cell_type": "markdown",
   "metadata": {},
   "source": [
    "\n",
    "## Objective:\n",
    "Create a simple number guessing game where the computer generates a random number, and the player has to guess the number.\n",
    "\n",
    "Requirements:\n",
    "\n",
    "The computer should generate a random number between a specified range (e.g., 1 to 100).\n",
    "The player should be prompted to enter their guess.\n",
    "After each guess, the computer should provide feedback on whether the guess is too high, too low, or correct.\n",
    "The game should continue until the player guesses the correct number.\n",
    "The program should keep track of the number of attempts made by the player.\n",
    "Example Output:\n",
    "\n",
    "## Example: \n",
    "Welcome to the Number Guessing Game!\n",
    "I'm thinking of a number between 1 and 100.\n",
    "Can you guess it?\n",
    "\n",
    "Your guess: 50\n",
    "Too low! Try again.\n",
    "\n",
    "Your guess: 75\n",
    "Too high! Try again.\n",
    "\n",
    "Your guess: 63\n",
    "Too low! Try again.\n",
    "\n",
    "Your guess: 70\n",
    "Congratulations! You guessed the number in 4 attempts.\n",
    "\n",
    "## Tips:\n",
    "\n",
    "1. Use the random module to generate a random number.\n",
    "2. Use a loop (e.g., while loop) to keep the game running until the player guesses the correct number.\n",
    "3. Consider using if, elif, and else statements to provide feedback on the player's guesses.\n",
    "4. You can use the input() function to get user input for the player's guesses.\n",
    "\n",
    "## Optional Enhancements:\n",
    "\n",
    "If you finds the exercise easy and wants to enhance the game, then you can consider adding the following features:\n",
    "\n",
    "5. Add a limit to the number of attempts the player can make before revealing the correct answer.\n",
    "6. Implement error handling for non-numeric input from the player.\n",
    "7. Allow the player to choose the range of numbers they want to guess from (e.g., 1 to 50 or 1 to 1000)."
   ]
  },
  {
   "cell_type": "markdown",
   "metadata": {},
   "source": []
  },
  {
   "cell_type": "code",
   "execution_count": 3,
   "metadata": {},
   "outputs": [
    {
     "name": "stdout",
     "output_type": "stream",
     "text": [
      "GUESS THE NUMBER GAME!\n",
      "Welcome! Daniel. Please choosse the range of numbers.\n",
      "The MINIMUM number is: 1, the MAXIMUM number is: 8.\n",
      "The character you picked is not a number. Please try again.\n",
      "4\n",
      "The character you picked is not a number. Please try again.\n",
      "3\n",
      "2\n",
      "1\n",
      "0\n",
      "Daniel <class 'int'> <class 'int'>\n"
     ]
    }
   ],
   "source": [
    "# 1. Import \"random\" library\n",
    "import random\n",
    "\n",
    "# 2. Intro\n",
    "print(\"GUESS THE NUMBER GAME!\")\n",
    "player_name = input(\"Insert your name: \")\n",
    "print(f\"Welcome! {player_name}. Please choosse the range of numbers.\")\n",
    "min_number = input(\"Enter the lowest number:\")\n",
    "max_number = input(\"Enter the highe}st number: \")\n",
    "\n",
    "\n",
    "# 3. Game Conditions\n",
    "if not((min_number.isdigit()) and (max_number.isdigit())):\n",
    "    print(\"Some or both value(s) you entered are not digits. PLEASE, TRY AGAIN!\")\n",
    "else:\n",
    "    print(f\"The MINIMUM number is: {min_number}, the MAXIMUM number is: {max_number}.\")\n",
    "\n",
    "# 4. Generate target number\n",
    "min_number = int(min_number)\n",
    "max_number = int(max_number)\n",
    "target_number = random.randrange(min_number, max_number)\n",
    "\n",
    "# 5. Main\n",
    "attempts = 5\n",
    "player_guess = min_number - 1\n",
    "while (attempts > 0):\n",
    "    player_guess = input(f\"Pick a NUMBER between {min_number} and {max_number}\")\n",
    "    # 6. Get player's guess\n",
    "    while True:\n",
    "        try:\n",
    "            player_guess = int(input(f\"Pick a NUMBER between {min_number} and {max_number}: \"))\n",
    "            break  # Exit loop if the input is a valid number\n",
    "        except ValueError:\n",
    "            print(\"The input is not a valid number. Please input a number.\")\n",
    "    \n",
    "    # Game logic\n",
    "    if player_guess == target_number:\n",
    "        print(f\"CONGRATS, YOU WON THE GAME in {5 - attempts} attempts!\")\n",
    "        print(f\"The winning number is {target_number}.\")\n",
    "        break\n",
    "    elif player_guess < target_number:\n",
    "        print(\"You picked a LOWER number. Try again!\")\n",
    "    else:\n",
    "        print(\"You picked a HIGHER number. Try again!\")\n",
    "\n",
    "    print(f\"You have {attempts} attempts left. TRY AGAIN!\")\n",
    "    \n",
    "print(player_name, type(min_number), type(max_number))\n"
   ]
  },
  {
   "cell_type": "code",
   "execution_count": null,
   "metadata": {},
   "outputs": [],
   "source": []
  },
  {
   "cell_type": "code",
   "execution_count": null,
   "metadata": {},
   "outputs": [],
   "source": []
  }
 ],
 "metadata": {
  "kernelspec": {
   "display_name": "Python 3",
   "language": "python",
   "name": "python3"
  },
  "language_info": {
   "codemirror_mode": {
    "name": "ipython",
    "version": 3
   },
   "file_extension": ".py",
   "mimetype": "text/x-python",
   "name": "python",
   "nbconvert_exporter": "python",
   "pygments_lexer": "ipython3",
   "version": "3.11.1"
  },
  "orig_nbformat": 4
 },
 "nbformat": 4,
 "nbformat_minor": 2
}
